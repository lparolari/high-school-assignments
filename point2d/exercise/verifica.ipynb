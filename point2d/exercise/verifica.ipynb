{
  "nbformat": 4,
  "nbformat_minor": 0,
  "metadata": {
    "colab": {
      "name": "verifica.ipynb",
      "provenance": [],
      "collapsed_sections": [],
      "toc_visible": true
    },
    "kernelspec": {
      "name": "python3",
      "display_name": "Python 3"
    }
  },
  "cells": [
    {
      "cell_type": "markdown",
      "metadata": {
        "id": "0HDBRWb2IURe"
      },
      "source": [
        "# Esercizio"
      ]
    },
    {
      "cell_type": "markdown",
      "metadata": {
        "id": "yRYJhZFvNWAx"
      },
      "source": [
        "**Partecipanti**\n",
        "\n",
        "* NOME COGNOME\n",
        "* NOME COGNOME\n",
        "\n",
        "**Istruzioni per la consegna**\n",
        "\n",
        "1. Clicca sul pulsante \"Condividi\" in alto a destra\n",
        "2. Clicca sul pulsante in basso della finestra aperta \"Cambia in chiunqua abbia il link\"\n",
        "3. Clicca sul pulsante \"Copia link\"\n",
        "4. Assicurati che il link funzioni, ad esempio incollandolo in una finestra in incognito del browser\n",
        "5. Incolla il link sulla consegna di Teams e invia"
      ]
    },
    {
      "cell_type": "markdown",
      "metadata": {
        "id": "LkidDUNKNClL"
      },
      "source": [
        "## Vettore"
      ]
    },
    {
      "cell_type": "code",
      "metadata": {
        "colab": {
          "base_uri": "https://localhost:8080/"
        },
        "id": "Xr8uTr8WIXDT",
        "outputId": "50beae16-817d-45b2-c1dd-53ba7184e6ac"
      },
      "source": [
        "%%writefile vettore.hpp\n",
        "\n",
        "// scrivi qui il codice C++ della classe `Vettore`"
      ],
      "execution_count": 50,
      "outputs": [
        {
          "output_type": "stream",
          "text": [
            "Overwriting vettore.hpp\n"
          ],
          "name": "stdout"
        }
      ]
    },
    {
      "cell_type": "markdown",
      "metadata": {
        "id": "hr6NWkb6NDyq"
      },
      "source": [
        "## Vettori"
      ]
    },
    {
      "cell_type": "code",
      "metadata": {
        "colab": {
          "base_uri": "https://localhost:8080/"
        },
        "id": "xvTyaMGCIiwr",
        "outputId": "294e89ef-8b77-4ea3-b4bd-b5a419e77be9"
      },
      "source": [
        "%%writefile vettori.hpp\n",
        "\n",
        "// scrivi qui il codice C++ della classe `Vettori`"
      ],
      "execution_count": 51,
      "outputs": [
        {
          "output_type": "stream",
          "text": [
            "Overwriting vettori.hpp\n"
          ],
          "name": "stdout"
        }
      ]
    },
    {
      "cell_type": "markdown",
      "metadata": {
        "id": "3OlA0YkfNFVW"
      },
      "source": [
        "## Main"
      ]
    },
    {
      "cell_type": "code",
      "metadata": {
        "colab": {
          "base_uri": "https://localhost:8080/"
        },
        "id": "rw9YRIjTIkqQ",
        "outputId": "82477f69-d924-4f23-9120-9e2fab6f2b10"
      },
      "source": [
        "%%writefile main.cpp\n",
        "\n",
        "#include <iostream>\n",
        "\n",
        "int main() {\n",
        "    // scrivi qui il codice C++ del main per testare la classe `Vettore` e `Vettori`\n",
        "\n",
        "    std::cout << \"Hello, World!\" << std::endl;\n",
        "\n",
        "    return 0;\n",
        "}"
      ],
      "execution_count": 60,
      "outputs": [
        {
          "output_type": "stream",
          "text": [
            "Overwriting main.cpp\n"
          ],
          "name": "stdout"
        }
      ]
    },
    {
      "cell_type": "markdown",
      "metadata": {
        "id": "CTKqpJpPNHMv"
      },
      "source": [
        "## Output"
      ]
    },
    {
      "cell_type": "code",
      "metadata": {
        "id": "Zzek06_mIyVQ",
        "colab": {
          "base_uri": "https://localhost:8080/"
        },
        "outputId": "dbf5e51d-097b-4e62-8d65-232a84a8505f"
      },
      "source": [
        "%%script bash\n",
        "\n",
        "g++ main.cpp -std=c++11\n",
        "./a.out"
      ],
      "execution_count": 61,
      "outputs": [
        {
          "output_type": "stream",
          "text": [
            "Hello, World!\n"
          ],
          "name": "stdout"
        }
      ]
    },
    {
      "cell_type": "markdown",
      "metadata": {
        "id": "sj7ejqQeIRv7"
      },
      "source": [
        "# Pallina Rimbalzante"
      ]
    },
    {
      "cell_type": "markdown",
      "metadata": {
        "id": "gIEtxSCYMjSj"
      },
      "source": [
        "## Engine"
      ]
    },
    {
      "cell_type": "markdown",
      "metadata": {
        "id": "e7t39u6IMS5i"
      },
      "source": [
        "Implementazione dell'engine grafico 2D per terminale"
      ]
    },
    {
      "cell_type": "code",
      "metadata": {
        "colab": {
          "base_uri": "https://localhost:8080/"
        },
        "id": "oqCZ022TNa7r",
        "outputId": "0eb4429c-766f-46ce-ceb8-230924fa07e8"
      },
      "source": [
        "%%writefile engine.hpp\n",
        "\n",
        "#include <iostream>\n",
        "#include <vector>\n",
        "\n",
        "class Engine\n",
        "{\n",
        "private:\n",
        "    std::vector<char> M;\n",
        "    int righe;\n",
        "    int colonne;\n",
        "\n",
        "    void init_board();\n",
        "\n",
        "public:\n",
        "    Engine(int righe = 22, int colonne = 40);\n",
        "    void clear();\n",
        "    void flush();\n",
        "    void display();\n",
        "    void set(int x, int y, char c);\n",
        "};\n",
        "\n",
        "/** Crea un engine grafico */\n",
        "Engine::Engine(int righe, int colonne)\n",
        "{\n",
        "    this->righe = righe;\n",
        "    this->colonne = colonne;\n",
        "\n",
        "    this->M.reserve(righe * colonne);\n",
        "    this->init_board();\n",
        "}\n",
        "\n",
        "/** Pulisce il terminale */\n",
        "void Engine::clear()\n",
        "{\n",
        "    std::system(\"clear\");\n",
        "}\n",
        "\n",
        "/** Pulisce la matrice dai punti disegnati precedentemente */\n",
        "void Engine::flush()\n",
        "{\n",
        "    init_board();\n",
        "}\n",
        "\n",
        "/** Mostra la matrice a video */\n",
        "void Engine::display()\n",
        "{\n",
        "    for (int i = 0; i < righe; i++)\n",
        "    {\n",
        "        for (int j = 0; j < colonne; j++)\n",
        "        {\n",
        "            std::cout << M[(i * colonne) + j];\n",
        "        }\n",
        "        std::cout << std::endl;\n",
        "    }\n",
        "}\n",
        "\n",
        "/** Imposta la cella (x,y) con il carattere `c` */\n",
        "void Engine::set(int x, int y, char c)\n",
        "{\n",
        "    if (x < 0 || y < 0 || x > colonne - 1 || y > righe - 1)\n",
        "    {\n",
        "        return;\n",
        "    }\n",
        "    M[(y * colonne) + x] = c;\n",
        "}\n",
        "\n",
        "/** Inizializza la board con spazi vuoti */\n",
        "void Engine::init_board()\n",
        "{\n",
        "    for (int i = 0; i < righe * colonne; i++)\n",
        "    {\n",
        "        M[i] = ' ';\n",
        "    }\n",
        "}\n"
      ],
      "execution_count": 54,
      "outputs": [
        {
          "output_type": "stream",
          "text": [
            "Overwriting engine.hpp\n"
          ],
          "name": "stdout"
        }
      ]
    },
    {
      "cell_type": "markdown",
      "metadata": {
        "id": "9ujJcP3jMlaV"
      },
      "source": [
        "## Main"
      ]
    },
    {
      "cell_type": "markdown",
      "metadata": {
        "id": "D7fWozlvMa5E"
      },
      "source": [
        "Utilizzo l'engine grafico e il vettore per creare una semplice simulazione: pallina che rimbalza."
      ]
    },
    {
      "cell_type": "code",
      "metadata": {
        "colab": {
          "base_uri": "https://localhost:8080/"
        },
        "id": "fLnXRVTxI2Mq",
        "outputId": "9908e838-ddb3-43aa-b3b3-9d410fd8ec3f"
      },
      "source": [
        "%%writefile main.cpp\n",
        "\n",
        "#include <iostream>\n",
        "#include <chrono>\n",
        "#include <thread>\n",
        "#include \"vettore.hpp\"\n",
        "#include \"engine.hpp\"\n",
        "\n",
        "int main()\n",
        "{\n",
        "    // creo l'engine che ha il compito di visualizzare coordiante 2D\n",
        "    // con 1 righe e 80 colonne\n",
        "    Engine engine = Engine(1, 80);\n",
        "\n",
        "    // creo tre vettori per la simulazione\n",
        "    Vettore pallina = Vettore(70., 0.);\n",
        "    Vettore velocita = Vettore(-1., 0.);\n",
        "    Vettore accelerazione = Vettore(-1., 0.);\n",
        "    Vettore frizione = Vettore(2, 0.9);\n",
        "\n",
        "    // inizio la simulazione\n",
        "    while (true)\n",
        "    {\n",
        "        engine.clear();\n",
        "        engine.flush();\n",
        "\n",
        "        // disegno il pavimento\n",
        "        engine.set(0, 0, '|');\n",
        "\n",
        "        // ricavo le componenti della pallina\n",
        "        int x_pallina = (int)pallina[0];\n",
        "        int y_pallina = (int)pallina[1];\n",
        "\n",
        "        // disegno la pallina\n",
        "        engine.set(x_pallina, y_pallina, '*');\n",
        "\n",
        "        // visualizzo tutto a video\n",
        "        engine.display();\n",
        "\n",
        "        // attendo 200 ms prima di procedere (5 frame per secondo!)\n",
        "        // bisogna attendere altrimenti l'occhio umano potrebbe non\n",
        "        // percepisce il movimento se eseguito troppo velocemente\n",
        "        std::this_thread::sleep_for(std::chrono::milliseconds(200));\n",
        "\n",
        "        // aggiorno lo stato della pallina\n",
        "        velocita = velocita + accelerazione;\n",
        "        pallina = pallina + velocita;\n",
        "\n",
        "        // quando la pallina tocca il terreno la faccio rimbalzare, ovvero\n",
        "        // ribalto la sua velocità\n",
        "        if (pallina[0] <= 0 && velocita[0] <= 0)\n",
        "        {\n",
        "            Vettore inverti = Vettore(2, -1.0);\n",
        "\n",
        "            // la pallina ogni volta che tocca terra è frenata con una certa frizione\n",
        "            velocita = velocita * inverti * frizione;\n",
        "\n",
        "            // aggiusto la posizione della pallina dato che potrebbe esssere\n",
        "            // uscita dallo schermo\n",
        "            pallina = pallina + velocita;\n",
        "        }\n",
        "    }\n",
        "}\n"
      ],
      "execution_count": 55,
      "outputs": [
        {
          "output_type": "stream",
          "text": [
            "Overwriting main.cpp\n"
          ],
          "name": "stdout"
        }
      ]
    },
    {
      "cell_type": "markdown",
      "metadata": {
        "id": "kKQLHNthMnAf"
      },
      "source": [
        "## Demo"
      ]
    },
    {
      "cell_type": "markdown",
      "metadata": {
        "id": "K80lKm5kMovP"
      },
      "source": [
        "Compilo il main"
      ]
    },
    {
      "cell_type": "code",
      "metadata": {
        "id": "DYY14K6SNhc2",
        "colab": {
          "base_uri": "https://localhost:8080/"
        },
        "outputId": "5cdf42d3-8722-4f7e-fc6d-512bbfae8d2e"
      },
      "source": [
        "%%script bash\n",
        "\n",
        "g++ main.cpp -std=c++11"
      ],
      "execution_count": 56,
      "outputs": [
        {
          "output_type": "stream",
          "text": [
            "main.cpp: In function ‘int main()’:\n",
            "main.cpp:15:5: error: ‘Vettore’ was not declared in this scope\n",
            "     Vettore pallina = Vettore(70., 0.);\n",
            "     ^~~~~~~\n",
            "main.cpp:16:13: error: expected ‘;’ before ‘velocita’\n",
            "     Vettore velocita = Vettore(-1., 0.);\n",
            "             ^~~~~~~~\n",
            "main.cpp:17:13: error: expected ‘;’ before ‘accelerazione’\n",
            "     Vettore accelerazione = Vettore(-1., 0.);\n",
            "             ^~~~~~~~~~~~~\n",
            "main.cpp:18:13: error: expected ‘;’ before ‘frizione’\n",
            "     Vettore frizione = Vettore(2, 0.9);\n",
            "             ^~~~~~~~\n",
            "main.cpp:30:30: error: ‘pallina’ was not declared in this scope\n",
            "         int x_pallina = (int)pallina[0];\n",
            "                              ^~~~~~~\n",
            "main.cpp:30:30: note: suggested alternative: ‘x_pallina’\n",
            "         int x_pallina = (int)pallina[0];\n",
            "                              ^~~~~~~\n",
            "                              x_pallina\n",
            "main.cpp:45:9: error: ‘velocita’ was not declared in this scope\n",
            "         velocita = velocita + accelerazione;\n",
            "         ^~~~~~~~\n",
            "main.cpp:45:9: note: suggested alternative: ‘alloca’\n",
            "         velocita = velocita + accelerazione;\n",
            "         ^~~~~~~~\n",
            "         alloca\n",
            "main.cpp:45:31: error: ‘accelerazione’ was not declared in this scope\n",
            "         velocita = velocita + accelerazione;\n",
            "                               ^~~~~~~~~~~~~\n",
            "main.cpp:52:21: error: expected ‘;’ before ‘inverti’\n",
            "             Vettore inverti = Vettore(2, -1.0);\n",
            "                     ^~~~~~~\n",
            "main.cpp:55:35: error: ‘inverti’ was not declared in this scope\n",
            "             velocita = velocita * inverti * frizione;\n",
            "                                   ^~~~~~~\n",
            "main.cpp:55:45: error: ‘frizione’ was not declared in this scope\n",
            "             velocita = velocita * inverti * frizione;\n",
            "                                             ^~~~~~~~\n"
          ],
          "name": "stderr"
        }
      ]
    },
    {
      "cell_type": "markdown",
      "metadata": {
        "id": "vChU9YjdMqBi"
      },
      "source": [
        "Eseguo il programma compilato.\n",
        "\n",
        "*Nota*: per interrompere l'esecuzione, che purtroppo non viene eseguita sulla stessa riga ma crea sempre una nuova riga, premere \"Ctrl+M I\"."
      ]
    },
    {
      "cell_type": "code",
      "metadata": {
        "id": "a8a-oqBPJmZq"
      },
      "source": [
        "!./a.out"
      ],
      "execution_count": 57,
      "outputs": []
    }
  ]
}